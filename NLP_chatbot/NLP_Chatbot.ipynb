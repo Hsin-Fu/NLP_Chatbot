{
 "cells": [
  {
   "cell_type": "code",
   "execution_count": 14,
   "id": "df5154f8",
   "metadata": {},
   "outputs": [],
   "source": [
    "import numpy as np\n",
    "import pandas as pd\n",
    "import re\n",
    "import string\n",
    "import nltk\n",
    "import os\n",
    "\n",
    "from sklearn.feature_extraction.text import CountVectorizer\n",
    "from sklearn.feature_extraction.text import TfidfVectorizer\n",
    "from sklearn.model_selection import train_test_split\n"
   ]
  },
  {
   "cell_type": "code",
   "execution_count": 15,
   "id": "b47e97a5",
   "metadata": {},
   "outputs": [],
   "source": [
    "# Loading Data\n",
    "\n",
    "#input and choose the columns we need\n",
    "chatbot = pd.read_csv('Sheet_1.csv',\n",
    "                      usecols=['response_id','class','response_text'],\n",
    "                      encoding='latin-1')\n",
    "\n",
    "#view the data\n",
    "#chatbot.head()\n",
    "#chatbot['class'].value_counts()\n",
    "\n",
    "# not_flagged => 0\n",
    "#flagged => 1\n",
    "\n",
    "chatbot[\"class\"] = [1 \n",
    "                 if each == \"flagged\" \n",
    "                 else 0 \n",
    "                 for each in chatbot[\"class\"]]\n",
    "\n",
    "#view the data again make sure the code works\n",
    "#chatbot.head()\n",
    "        \n",
    "#see the response_text\n",
    "#chatbot.response_text[14] "
   ]
  },
  {
   "cell_type": "code",
   "execution_count": 16,
   "id": "1ee580e8",
   "metadata": {},
   "outputs": [],
   "source": [
    "chatbot['Label'] = chatbot['class']\n",
    "\n",
    "x = chatbot.response_text\n",
    "y = chatbot.Label\n",
    "\n",
    "#split train set and test set\n",
    "x_train,x_test,y_train,y_test = train_test_split(x,y,random_state=1)\n",
    "\n"
   ]
  },
  {
   "cell_type": "code",
   "execution_count": 17,
   "id": "f21a95de",
   "metadata": {},
   "outputs": [],
   "source": [
    "\n",
    "vect = CountVectorizer()\n",
    "\n",
    "x_train_dtm = vect.fit_transform(x_train)\n",
    "x_test_dtm = vect.transform(x_test)\n",
    "\n",
    "from sklearn.ensemble import RandomForestClassifier\n",
    "\n",
    "#Random Forest\n",
    "rf = RandomForestClassifier(max_depth=10,\n",
    "                            max_features=10)\n",
    "\n",
    "rf.fit(x_train_dtm,y_train)\n",
    "\n",
    "rf_predict = rf.predict(x_test_dtm)\n",
    "\n"
   ]
  },
  {
   "cell_type": "code",
   "execution_count": 18,
   "id": "ff3432b0",
   "metadata": {},
   "outputs": [
    {
     "name": "stdout",
     "output_type": "stream",
     "text": [
      "need help\n"
     ]
    }
   ],
   "source": [
    "input_text = 'Had a friend open up to me about his mental addiction to weed and how it was taking over his life and making him depressed'\n",
    "\n",
    "\n",
    "result_text = pd.Series([input_text])\n",
    "result_text_dtm = vect.transform(result_text)\n",
    "result_predict = rf.predict(result_text_dtm)\n",
    "\n",
    "if  result_predict[0] == 1:\n",
    "    print('need help')\n",
    "else:\n",
    "    print('do not need help')"
   ]
  },
  {
   "cell_type": "code",
   "execution_count": 19,
   "id": "d767e6b3",
   "metadata": {},
   "outputs": [
    {
     "name": "stdout",
     "output_type": "stream",
     "text": [
      "do not need help\n"
     ]
    }
   ],
   "source": [
    "input_text = 'Hello world!'\n",
    "\n",
    "\n",
    "result_text = pd.Series([input_text])\n",
    "result_text_dtm = vect.transform(result_text)\n",
    "result_predict = rf.predict(result_text_dtm)\n",
    "\n",
    "if  result_predict[0] == 1:\n",
    "    print('need help')\n",
    "else:\n",
    "    print('do not need help')"
   ]
  },
  {
   "cell_type": "code",
   "execution_count": null,
   "id": "a1bba519",
   "metadata": {},
   "outputs": [],
   "source": []
  }
 ],
 "metadata": {
  "kernelspec": {
   "display_name": "Python (tf)",
   "language": "python",
   "name": "myenv"
  },
  "language_info": {
   "codemirror_mode": {
    "name": "ipython",
    "version": 3
   },
   "file_extension": ".py",
   "mimetype": "text/x-python",
   "name": "python",
   "nbconvert_exporter": "python",
   "pygments_lexer": "ipython3",
   "version": "3.8.10"
  }
 },
 "nbformat": 4,
 "nbformat_minor": 5
}
